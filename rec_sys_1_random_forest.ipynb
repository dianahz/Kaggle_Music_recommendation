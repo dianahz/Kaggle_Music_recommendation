{
 "cells": [
  {
   "cell_type": "markdown",
   "metadata": {},
   "source": [
    "# Install necessary libraries:\n",
    "    conda install scikit-learn\n",
    "    conda install -c anaconda pandas\n",
    "    conda install seaborn\n",
    "    conda install -c anaconda numpy\n",
    "    conda install -c conda-forge matplotlib \n"
   ]
  },
  {
   "cell_type": "code",
   "execution_count": 1,
   "metadata": {},
   "outputs": [],
   "source": [
    "from sklearn.model_selection import cross_validate, GridSearchCV\n",
    "from sklearn import metrics, ensemble\n",
    "import numpy as np\n",
    "import pandas as pd\n",
    "import seaborn as sns\n",
    "import matplotlib as mpl\n",
    "import matplotlib.pyplot as plt\n"
   ]
  },
  {
   "cell_type": "code",
   "execution_count": 2,
   "metadata": {
    "scrolled": true
   },
   "outputs": [
    {
     "data": {
      "text/plain": [
       "7377418"
      ]
     },
     "execution_count": 2,
     "metadata": {},
     "output_type": "execute_result"
    }
   ],
   "source": [
    "data=pd.read_csv('train.csv')\n",
    "len(data)"
   ]
  },
  {
   "cell_type": "code",
   "execution_count": 3,
   "metadata": {},
   "outputs": [
    {
     "data": {
      "text/plain": [
       "2950967"
      ]
     },
     "execution_count": 3,
     "metadata": {},
     "output_type": "execute_result"
    }
   ],
   "source": [
    "data=data.sample(frac=0.4)\n",
    "len(data)"
   ]
  },
  {
   "cell_type": "code",
   "execution_count": 4,
   "metadata": {},
   "outputs": [],
   "source": [
    "songs=pd.read_csv('songs.csv')\n",
    "data=pd.merge(data,songs,on='song_id',how='left')\n",
    "del songs"
   ]
  },
  {
   "cell_type": "code",
   "execution_count": 5,
   "metadata": {},
   "outputs": [],
   "source": [
    "members=pd.read_csv('members.csv')\n",
    "data=pd.merge(data,members,on='msno',how='left')\n",
    "del members"
   ]
  },
  {
   "cell_type": "code",
   "execution_count": 6,
   "metadata": {},
   "outputs": [
    {
     "data": {
      "text/plain": [
       "msno                       0.000000\n",
       "song_id                    0.000000\n",
       "source_system_tab          0.338330\n",
       "source_screen_name         5.634153\n",
       "source_type                0.291972\n",
       "target                     0.000000\n",
       "song_length                0.001355\n",
       "genre_ids                  1.603000\n",
       "artist_name                0.001355\n",
       "composer                  22.694527\n",
       "lyricist                  43.038062\n",
       "language                   0.001898\n",
       "city                       0.000000\n",
       "bd                         0.000000\n",
       "gender                    40.145180\n",
       "registered_via             0.000000\n",
       "registration_init_time     0.000000\n",
       "expiration_date            0.000000\n",
       "dtype: float64"
      ]
     },
     "execution_count": 6,
     "metadata": {},
     "output_type": "execute_result"
    }
   ],
   "source": [
    "##check the NA in the record\n",
    "data.isnull().sum()/data.isnull().count()*100"
   ]
  },
  {
   "cell_type": "code",
   "execution_count": 7,
   "metadata": {},
   "outputs": [
    {
     "name": "stderr",
     "output_type": "stream",
     "text": [
      "C:\\Users\\Administrator\\Anaconda3\\lib\\site-packages\\ipykernel_launcher.py:3: SettingWithCopyWarning: \n",
      "A value is trying to be set on a copy of a slice from a DataFrame\n",
      "\n",
      "See the caveats in the documentation: http://pandas.pydata.org/pandas-docs/stable/indexing.html#indexing-view-versus-copy\n",
      "  This is separate from the ipykernel package so we can avoid doing imports until\n"
     ]
    },
    {
     "data": {
      "text/plain": [
       "msno                      0.0\n",
       "song_id                   0.0\n",
       "source_system_tab         0.0\n",
       "source_screen_name        0.0\n",
       "source_type               0.0\n",
       "target                    0.0\n",
       "song_length               0.0\n",
       "genre_ids                 0.0\n",
       "artist_name               0.0\n",
       "composer                  0.0\n",
       "lyricist                  0.0\n",
       "language                  0.0\n",
       "city                      0.0\n",
       "bd                        0.0\n",
       "gender                    0.0\n",
       "registered_via            0.0\n",
       "registration_init_time    0.0\n",
       "expiration_date           0.0\n",
       "dtype: float64"
      ]
     },
     "execution_count": 7,
     "metadata": {},
     "output_type": "execute_result"
    }
   ],
   "source": [
    "##replace NA\n",
    "for i in data.select_dtypes(include=['object']).columns:\n",
    "    data[i][data[i].isnull()]='unknown'\n",
    "data=data.fillna(value=0)\n",
    "##check the NA in the record again\n",
    "data.isnull().sum()/data.isnull().count()*100"
   ]
  },
  {
   "cell_type": "code",
   "execution_count": 8,
   "metadata": {},
   "outputs": [],
   "source": [
    "##format and read date\n",
    "data.registration_init_time=pd.to_datetime(data.registration_init_time, format='%Y%m%d',errors='ignore')\n",
    "data['registration_init_time_year']=data['registration_init_time'].dt.year\n",
    "data['registration_init_time_month']=data['registration_init_time'].dt.month\n",
    "data['registration_init_time_day']=data['registration_init_time'].dt.day\n",
    "\n",
    "data.expiration_date=pd.to_datetime(data.expiration_date, format='%Y%m%d',errors='ignore')\n",
    "data['expiration_date_year']=data['expiration_date'].dt.year\n",
    "data['expiration_date_month']=data['expiration_date'].dt.month\n",
    "data['expiration_date_day']=data['expiration_date'].dt.day\n",
    "\n",
    "data['registration_init_time']=data['registration_init_time'].astype('category')\n",
    "data['expiration_date']=data['expiration_date'].astype('category')\n",
    "\n",
    "for col in data.select_dtypes(include=['object']).columns:\n",
    "    data[col]=data[col].astype('category')\n",
    "    \n",
    "for col in data.select_dtypes(include=['category']).columns:\n",
    "    data[col]=data[col].cat.codes"
   ]
  },
  {
   "cell_type": "code",
   "execution_count": 9,
   "metadata": {},
   "outputs": [],
   "source": [
    "#implementing PCA\n",
    "\n",
    "from sklearn.decomposition import PCA"
   ]
  },
  {
   "cell_type": "code",
   "execution_count": 10,
   "metadata": {},
   "outputs": [
    {
     "data": {
      "text/plain": [
       "PCA(copy=True, iterated_power='auto', n_components=2, random_state=None,\n",
       "  svd_solver='auto', tol=0.0, whiten=False)"
      ]
     },
     "execution_count": 10,
     "metadata": {},
     "output_type": "execute_result"
    }
   ],
   "source": [
    "pca=PCA(n_components=2)\n",
    "pca.fit(data[data.columns[data.columns != 'target']])"
   ]
  },
  {
   "cell_type": "code",
   "execution_count": 12,
   "metadata": {},
   "outputs": [
    {
     "data": {
      "text/plain": [
       "RandomForestClassifier(bootstrap=True, class_weight=None, criterion='gini',\n",
       "            max_depth=25, max_features='auto', max_leaf_nodes=None,\n",
       "            min_impurity_decrease=0.0, min_impurity_split=None,\n",
       "            min_samples_leaf=1, min_samples_split=2,\n",
       "            min_weight_fraction_leaf=0.0, n_estimators=250, n_jobs=None,\n",
       "            oob_score=False, random_state=None, verbose=0,\n",
       "            warm_start=False)"
      ]
     },
     "execution_count": 12,
     "metadata": {},
     "output_type": "execute_result"
    }
   ],
   "source": [
    "#random forest classifier, exclude the column of \"target\"\n",
    "model=ensemble.RandomForestClassifier(n_estimators=250,max_depth=25)\n",
    "model.fit(data[data.columns[data.columns != 'target']],data.target)"
   ]
  },
  {
   "cell_type": "code",
   "execution_count": 14,
   "metadata": {},
   "outputs": [],
   "source": [
    "data_plot=pd.DataFrame({'features':data.columns[data.columns != 'target'],\n",
    "                        'importances':model.feature_importances_})\n",
    "data_plot=data_plot.sort_values('importances',ascending=False)"
   ]
  },
  {
   "cell_type": "code",
   "execution_count": 16,
   "metadata": {},
   "outputs": [],
   "source": [
    "#drop columns with less importance\n",
    "data=data.drop(data_plot.features[data_plot.importances < 0.05].tolist(),1)"
   ]
  },
  {
   "cell_type": "code",
   "execution_count": 17,
   "metadata": {},
   "outputs": [
    {
     "data": {
      "text/plain": [
       "Index(['msno', 'song_id', 'source_system_tab', 'source_screen_name',\n",
       "       'source_type', 'target', 'song_length', 'artist_name', 'composer',\n",
       "       'registration_init_time', 'expiration_date'],\n",
       "      dtype='object')"
      ]
     },
     "execution_count": 17,
     "metadata": {},
     "output_type": "execute_result"
    }
   ],
   "source": [
    "data.columns"
   ]
  },
  {
   "cell_type": "markdown",
   "metadata": {},
   "source": [
    "# droped columns with low importance\n",
    "genre_ids                 \n",
    "lyricist                  \n",
    "language                  \n",
    "city                      \n",
    "bd                        \n",
    "gender                    \n",
    "registered_via            "
   ]
  },
  {
   "cell_type": "code",
   "execution_count": 18,
   "metadata": {},
   "outputs": [],
   "source": [
    "from sklearn.model_selection import KFold\n",
    "kf=KFold(n_splits=4)\n",
    "\n",
    "model = ensemble.RandomForestClassifier(n_estimators=250, max_depth=25)\n",
    "for train_indices, val_indices in kf.split(data):\n",
    "    model.fit(data.drop(['target'],axis=1).loc[train_indices,:],data.loc[train_indices,'target'])"
   ]
  },
  {
   "cell_type": "markdown",
   "metadata": {},
   "source": [
    "# Test with the optimized classifier"
   ]
  },
  {
   "cell_type": "code",
   "execution_count": 20,
   "metadata": {},
   "outputs": [
    {
     "name": "stderr",
     "output_type": "stream",
     "text": [
      "C:\\Users\\Administrator\\Anaconda3\\lib\\site-packages\\ipykernel_launcher.py:11: SettingWithCopyWarning: \n",
      "A value is trying to be set on a copy of a slice from a DataFrame\n",
      "\n",
      "See the caveats in the documentation: http://pandas.pydata.org/pandas-docs/stable/indexing.html#indexing-view-versus-copy\n",
      "  # This is added back by InteractiveShellApp.init_path()\n"
     ]
    },
    {
     "data": {
      "text/plain": [
       "Index(['id', 'msno', 'song_id', 'source_system_tab', 'source_screen_name',\n",
       "       'source_type', 'song_length', 'artist_name', 'composer',\n",
       "       'registration_init_time', 'expiration_date'],\n",
       "      dtype='object')"
      ]
     },
     "execution_count": 20,
     "metadata": {},
     "output_type": "execute_result"
    }
   ],
   "source": [
    "data_test=pd.read_csv('test.csv')\n",
    "songs=pd.read_csv('songs.csv')\n",
    "data_test=pd.merge(data_test,songs,on='song_id',how='left')\n",
    "del songs\n",
    "members=pd.read_csv('members.csv')\n",
    "data_test=pd.merge(data_test,members,on='msno',how='left')\n",
    "del members\n",
    "data_test.isnull().sum()/data_test.isnull().count()*100\n",
    "##replace NA\n",
    "for i in data_test.select_dtypes(include=['object']).columns:\n",
    "    data_test[i][data_test[i].isnull()]='unknown'\n",
    "data_test=data_test.fillna(value=0)\n",
    "##format and read date\n",
    "data_test.registration_init_time=pd.to_datetime(data_test.registration_init_time, format='%Y%m%d',errors='ignore')\n",
    "data_test.expiration_date=pd.to_datetime(data_test.expiration_date, format='%Y%m%d',errors='ignore')\n",
    "\n",
    "data_test['registration_init_time']=data_test['registration_init_time'].astype('category')\n",
    "data_test['expiration_date']=data_test['expiration_date'].astype('category')\n",
    "#Object data to category\n",
    "for col in data_test.select_dtypes(include=['object']).columns:\n",
    "    data_test[col]=data_test[col].astype('category')\n",
    "    \n",
    "for col in data_test.select_dtypes(include=['category']).columns:\n",
    "    data_test[col]=data_test[col].cat.codes\n",
    "#drop clomuns with low importances\n",
    "data_test=data_test.drop(['genre_ids','lyricist','language','city','bd','gender','registered_via'],1)\n",
    "\n",
    "\n",
    "data_test.columns"
   ]
  },
  {
   "cell_type": "code",
   "execution_count": 21,
   "metadata": {},
   "outputs": [
    {
     "data": {
      "text/plain": [
       "Index(['msno', 'song_id', 'source_system_tab', 'source_screen_name',\n",
       "       'source_type', 'target', 'song_length', 'artist_name', 'composer',\n",
       "       'registration_init_time', 'expiration_date'],\n",
       "      dtype='object')"
      ]
     },
     "execution_count": 21,
     "metadata": {},
     "output_type": "execute_result"
    }
   ],
   "source": [
    "data.columns"
   ]
  },
  {
   "cell_type": "code",
   "execution_count": 23,
   "metadata": {},
   "outputs": [],
   "source": [
    "predictions =np.zeros(shape=[len(data_test)])\n",
    "predictions += model.predict(data_test.drop(['id'],axis=1))\n",
    "predictions=predictions/4\n",
    "\n",
    "submission=pd.read_csv('sample_submission.csv')\n",
    "submission.target=predictions\n",
    "submission.to_csv('submission.csv',index=False)\n"
   ]
  },
  {
   "cell_type": "code",
   "execution_count": null,
   "metadata": {},
   "outputs": [],
   "source": []
  },
  {
   "cell_type": "markdown",
   "metadata": {},
   "source": [
    "# Report"
   ]
  },
  {
   "cell_type": "code",
   "execution_count": null,
   "metadata": {},
   "outputs": [],
   "source": [
    "#roc curve\n",
    "from sklearn import metrics\n",
    "from sklearn.metrics import roc_curve,auc\n",
    "test=data[int(data['target'].count()*(1-0.4)):data['target'].count()]\n",
    "data=data[0:int(data['target'].count()*(1-0.4))]\n",
    "x=test.drop(['target'],axis=1)\n",
    "predict_roc=model.predict(x)\n",
    "\n",
    "fpr,tpr,threshold=roc_curve(test['target'],predict_roc)\n",
    "roc_auc=auc(fpr,tpr)\n",
    "roc_auc\n",
    "plt.plot(fpr,tpr)\n",
    "plt.show()"
   ]
  },
  {
   "cell_type": "code",
   "execution_count": null,
   "metadata": {},
   "outputs": [],
   "source": [
    "from sklearn.metrics import classification_report\n",
    "targets=['0','1']\n",
    "X=data['target'].values\n",
    "print(classification_report(X,predict_roc,target_names=targets))"
   ]
  }
 ],
 "metadata": {
  "kernelspec": {
   "display_name": "Python 3",
   "language": "python",
   "name": "python3"
  },
  "language_info": {
   "codemirror_mode": {
    "name": "ipython",
    "version": 3
   },
   "file_extension": ".py",
   "mimetype": "text/x-python",
   "name": "python",
   "nbconvert_exporter": "python",
   "pygments_lexer": "ipython3",
   "version": "3.7.2"
  }
 },
 "nbformat": 4,
 "nbformat_minor": 2
}
